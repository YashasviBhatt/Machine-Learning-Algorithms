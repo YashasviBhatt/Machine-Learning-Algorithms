{
 "cells": [
  {
   "cell_type": "code",
   "execution_count": 1,
   "id": "59366590",
   "metadata": {},
   "outputs": [],
   "source": [
    "# Importing Libraries\n",
    "import numpy as np\n",
    "import pandas as pd\n",
    "from sklearn.linear_model import LinearRegression\n",
    "from sklearn.model_selection import cross_val_score\n",
    "from sklearn.model_selection import GridSearchCV\n",
    "from sklearn.linear_model import Ridge"
   ]
  },
  {
   "cell_type": "code",
   "execution_count": 2,
   "id": "1b142f63",
   "metadata": {},
   "outputs": [],
   "source": [
    "# Ignoring Warnings\n",
    "import warnings\n",
    "warnings.filterwarnings('ignore')"
   ]
  },
  {
   "cell_type": "code",
   "execution_count": 3,
   "id": "2f6ef5e8",
   "metadata": {},
   "outputs": [],
   "source": [
    "# Importing Data\n",
    "df = pd.read_csv('data.csv')"
   ]
  },
  {
   "cell_type": "code",
   "execution_count": 4,
   "id": "533f14e5",
   "metadata": {},
   "outputs": [
    {
     "data": {
      "text/html": [
       "<div>\n",
       "<style scoped>\n",
       "    .dataframe tbody tr th:only-of-type {\n",
       "        vertical-align: middle;\n",
       "    }\n",
       "\n",
       "    .dataframe tbody tr th {\n",
       "        vertical-align: top;\n",
       "    }\n",
       "\n",
       "    .dataframe thead th {\n",
       "        text-align: right;\n",
       "    }\n",
       "</style>\n",
       "<table border=\"1\" class=\"dataframe\">\n",
       "  <thead>\n",
       "    <tr style=\"text-align: right;\">\n",
       "      <th></th>\n",
       "      <th>ID</th>\n",
       "      <th>T_degC</th>\n",
       "      <th>Salnty</th>\n",
       "    </tr>\n",
       "  </thead>\n",
       "  <tbody>\n",
       "    <tr>\n",
       "      <th>0</th>\n",
       "      <td>0</td>\n",
       "      <td>10.50</td>\n",
       "      <td>33.440</td>\n",
       "    </tr>\n",
       "    <tr>\n",
       "      <th>1</th>\n",
       "      <td>1</td>\n",
       "      <td>10.46</td>\n",
       "      <td>33.440</td>\n",
       "    </tr>\n",
       "    <tr>\n",
       "      <th>2</th>\n",
       "      <td>2</td>\n",
       "      <td>10.46</td>\n",
       "      <td>33.437</td>\n",
       "    </tr>\n",
       "    <tr>\n",
       "      <th>3</th>\n",
       "      <td>3</td>\n",
       "      <td>10.45</td>\n",
       "      <td>33.420</td>\n",
       "    </tr>\n",
       "    <tr>\n",
       "      <th>4</th>\n",
       "      <td>4</td>\n",
       "      <td>10.45</td>\n",
       "      <td>33.421</td>\n",
       "    </tr>\n",
       "  </tbody>\n",
       "</table>\n",
       "</div>"
      ],
      "text/plain": [
       "   ID  T_degC  Salnty\n",
       "0   0   10.50  33.440\n",
       "1   1   10.46  33.440\n",
       "2   2   10.46  33.437\n",
       "3   3   10.45  33.420\n",
       "4   4   10.45  33.421"
      ]
     },
     "execution_count": 4,
     "metadata": {},
     "output_type": "execute_result"
    }
   ],
   "source": [
    "# Data\n",
    "df.head()"
   ]
  },
  {
   "cell_type": "code",
   "execution_count": 5,
   "id": "d86977d1",
   "metadata": {},
   "outputs": [
    {
     "data": {
      "text/plain": [
       "(864863, 3)"
      ]
     },
     "execution_count": 5,
     "metadata": {},
     "output_type": "execute_result"
    }
   ],
   "source": [
    "# Data Set Dimensions\n",
    "df.shape"
   ]
  },
  {
   "cell_type": "code",
   "execution_count": 6,
   "id": "b9372fb2",
   "metadata": {},
   "outputs": [
    {
     "name": "stdout",
     "output_type": "stream",
     "text": [
      "<class 'pandas.core.frame.DataFrame'>\n",
      "RangeIndex: 864863 entries, 0 to 864862\n",
      "Data columns (total 3 columns):\n",
      " #   Column  Non-Null Count   Dtype  \n",
      "---  ------  --------------   -----  \n",
      " 0   ID      864863 non-null  int64  \n",
      " 1   T_degC  853900 non-null  float64\n",
      " 2   Salnty  817509 non-null  float64\n",
      "dtypes: float64(2), int64(1)\n",
      "memory usage: 19.8 MB\n"
     ]
    }
   ],
   "source": [
    "# Data Info\n",
    "df.info()"
   ]
  },
  {
   "cell_type": "code",
   "execution_count": 7,
   "id": "8479d9ca",
   "metadata": {},
   "outputs": [
    {
     "data": {
      "text/plain": [
       "ID            0\n",
       "T_degC    10963\n",
       "Salnty    47354\n",
       "dtype: int64"
      ]
     },
     "execution_count": 7,
     "metadata": {},
     "output_type": "execute_result"
    }
   ],
   "source": [
    "# Null Count in Data Set\n",
    "df.isnull().sum()"
   ]
  },
  {
   "cell_type": "code",
   "execution_count": 8,
   "id": "7da58e9e",
   "metadata": {},
   "outputs": [],
   "source": [
    "# Dropping ID Column\n",
    "df = df.drop('ID', axis=1)"
   ]
  },
  {
   "cell_type": "code",
   "execution_count": 9,
   "id": "ffa6a0f1",
   "metadata": {},
   "outputs": [],
   "source": [
    "# Dropping Null Values\n",
    "df.dropna(axis=0, how='any', inplace=True)"
   ]
  },
  {
   "cell_type": "code",
   "execution_count": 10,
   "id": "40362fad",
   "metadata": {},
   "outputs": [
    {
     "data": {
      "text/plain": [
       "T_degC    0\n",
       "Salnty    0\n",
       "dtype: int64"
      ]
     },
     "execution_count": 10,
     "metadata": {},
     "output_type": "execute_result"
    }
   ],
   "source": [
    "# Null Count in Data Set after dropping Null\n",
    "df.isnull().sum()"
   ]
  },
  {
   "cell_type": "code",
   "execution_count": 11,
   "id": "b38bcf0a",
   "metadata": {},
   "outputs": [
    {
     "data": {
      "text/plain": [
       "(814247, 2)"
      ]
     },
     "execution_count": 11,
     "metadata": {},
     "output_type": "execute_result"
    }
   ],
   "source": [
    "# Dimensions of Dataset after removing all Null containing Rows\n",
    "df.shape"
   ]
  },
  {
   "cell_type": "code",
   "execution_count": 12,
   "id": "0591e805",
   "metadata": {},
   "outputs": [],
   "source": [
    "# Resetting Index\n",
    "df.reset_index(drop=True, inplace=True)"
   ]
  },
  {
   "cell_type": "code",
   "execution_count": 13,
   "id": "8c6aeced",
   "metadata": {},
   "outputs": [
    {
     "data": {
      "text/html": [
       "<div>\n",
       "<style scoped>\n",
       "    .dataframe tbody tr th:only-of-type {\n",
       "        vertical-align: middle;\n",
       "    }\n",
       "\n",
       "    .dataframe tbody tr th {\n",
       "        vertical-align: top;\n",
       "    }\n",
       "\n",
       "    .dataframe thead th {\n",
       "        text-align: right;\n",
       "    }\n",
       "</style>\n",
       "<table border=\"1\" class=\"dataframe\">\n",
       "  <thead>\n",
       "    <tr style=\"text-align: right;\">\n",
       "      <th></th>\n",
       "      <th>T_degC</th>\n",
       "      <th>Salnty</th>\n",
       "    </tr>\n",
       "  </thead>\n",
       "  <tbody>\n",
       "    <tr>\n",
       "      <th>0</th>\n",
       "      <td>10.50</td>\n",
       "      <td>33.440</td>\n",
       "    </tr>\n",
       "    <tr>\n",
       "      <th>1</th>\n",
       "      <td>10.46</td>\n",
       "      <td>33.440</td>\n",
       "    </tr>\n",
       "    <tr>\n",
       "      <th>2</th>\n",
       "      <td>10.46</td>\n",
       "      <td>33.437</td>\n",
       "    </tr>\n",
       "    <tr>\n",
       "      <th>3</th>\n",
       "      <td>10.45</td>\n",
       "      <td>33.420</td>\n",
       "    </tr>\n",
       "    <tr>\n",
       "      <th>4</th>\n",
       "      <td>10.45</td>\n",
       "      <td>33.421</td>\n",
       "    </tr>\n",
       "  </tbody>\n",
       "</table>\n",
       "</div>"
      ],
      "text/plain": [
       "   T_degC  Salnty\n",
       "0   10.50  33.440\n",
       "1   10.46  33.440\n",
       "2   10.46  33.437\n",
       "3   10.45  33.420\n",
       "4   10.45  33.421"
      ]
     },
     "execution_count": 13,
     "metadata": {},
     "output_type": "execute_result"
    }
   ],
   "source": [
    "# Dataset\n",
    "df.head()"
   ]
  },
  {
   "cell_type": "code",
   "execution_count": 14,
   "id": "4c69ea30",
   "metadata": {},
   "outputs": [],
   "source": [
    "# Feature Set and Class Set\n",
    "X = df.iloc[0:, 0].values\n",
    "y = df.iloc[0:, 1].values"
   ]
  },
  {
   "cell_type": "code",
   "execution_count": 15,
   "id": "af5dbbe2",
   "metadata": {},
   "outputs": [],
   "source": [
    "# Reshaping Feature Set\n",
    "X = X.reshape(-1, 1)"
   ]
  },
  {
   "cell_type": "code",
   "execution_count": 16,
   "id": "e32e86c1",
   "metadata": {},
   "outputs": [],
   "source": [
    "# Linear Regression\n",
    "lin_reg = LinearRegression()"
   ]
  },
  {
   "cell_type": "code",
   "execution_count": 17,
   "id": "22134c80",
   "metadata": {},
   "outputs": [
    {
     "data": {
      "text/plain": [
       "-0.1748181221229268"
      ]
     },
     "execution_count": 17,
     "metadata": {},
     "output_type": "execute_result"
    }
   ],
   "source": [
    "# Mean Square Error\n",
    "mse = cross_val_score(lin_reg, X, y, scoring='neg_mean_squared_error', cv=5)\n",
    "mean_mse = np.mean(mse)\n",
    "mean_mse"
   ]
  },
  {
   "cell_type": "code",
   "execution_count": 18,
   "id": "f73e13fa",
   "metadata": {},
   "outputs": [],
   "source": [
    "# Ridge Regression\n",
    "ridge = Ridge()"
   ]
  },
  {
   "cell_type": "code",
   "execution_count": 19,
   "id": "f2376db2",
   "metadata": {},
   "outputs": [
    {
     "data": {
      "text/plain": [
       "GridSearchCV(cv=5, estimator=Ridge(), n_jobs=-1,\n",
       "             param_grid={'alpha': [1e-15, 1e-10, 1e-08, 0.001, 0.01, 1, 5, 10,\n",
       "                                   20, 30, 35, 40, 50, 65, 80, 90, 100]},\n",
       "             scoring='neg_mean_squared_error')"
      ]
     },
     "execution_count": 19,
     "metadata": {},
     "output_type": "execute_result"
    }
   ],
   "source": [
    "# Performing Hyper-Parameter Tuning\n",
    "\n",
    "# Setting Parameters\n",
    "parameters = {\n",
    "    'alpha': [1e-15, 1e-10, 1e-8, 1e-3, 1e-2, 1, 5, 10, 20, 30, 35, 40, 50, 65, 80, 90, 100]\n",
    "}\n",
    "\n",
    "# Performing Grid Search on Parameters\n",
    "ridge_regressor = GridSearchCV(\n",
    "    estimator=ridge, \n",
    "    param_grid=parameters, \n",
    "    scoring='neg_mean_squared_error', \n",
    "    n_jobs=-1, cv=5\n",
    ")\n",
    "\n",
    "# Fitting the Model on Data\n",
    "ridge_regressor.fit(X, y)"
   ]
  },
  {
   "cell_type": "code",
   "execution_count": 20,
   "id": "e0676e20",
   "metadata": {},
   "outputs": [
    {
     "data": {
      "text/plain": [
       "({'alpha': 100}, -0.17481798588184377)"
      ]
     },
     "execution_count": 20,
     "metadata": {},
     "output_type": "execute_result"
    }
   ],
   "source": [
    "# Best Fit Model Constraints\n",
    "(ridge_regressor.best_params_, ridge_regressor.best_score_)"
   ]
  },
  {
   "cell_type": "code",
   "execution_count": 21,
   "id": "07a9468b",
   "metadata": {},
   "outputs": [
    {
     "data": {
      "text/plain": [
       "{'mean_fit_time': array([0.09911413, 0.07379751, 0.07501688, 0.07629952, 0.07389874,\n",
       "        0.07470636, 0.07350106, 0.06835427, 0.0734468 , 0.07871523,\n",
       "        0.07485089, 0.06690221, 0.07063293, 0.0712584 , 0.07464323,\n",
       "        0.07317266, 0.07428617]),\n",
       " 'std_fit_time': array([0.03167128, 0.00406161, 0.003532  , 0.00440742, 0.00477866,\n",
       "        0.00457188, 0.00334429, 0.00451548, 0.00411524, 0.0127064 ,\n",
       "        0.01304947, 0.0065708 , 0.00509523, 0.00750298, 0.00782122,\n",
       "        0.00630031, 0.00760377]),\n",
       " 'mean_score_time': array([0.00942678, 0.01031041, 0.00819788, 0.0066153 , 0.0098196 ,\n",
       "        0.00977859, 0.00990424, 0.01181722, 0.0099555 , 0.00860839,\n",
       "        0.01030202, 0.01166348, 0.00911946, 0.01040111, 0.01106663,\n",
       "        0.01017299, 0.00920286]),\n",
       " 'std_score_time': array([0.00175882, 0.00012309, 0.00410057, 0.00461164, 0.00085765,\n",
       "        0.00082052, 0.00077652, 0.00432142, 0.0013274 , 0.00184051,\n",
       "        0.00598888, 0.00377783, 0.00116936, 0.0020587 , 0.0021952 ,\n",
       "        0.00162161, 0.00375218]),\n",
       " 'param_alpha': masked_array(data=[1e-15, 1e-10, 1e-08, 0.001, 0.01, 1, 5, 10, 20, 30, 35,\n",
       "                    40, 50, 65, 80, 90, 100],\n",
       "              mask=[False, False, False, False, False, False, False, False,\n",
       "                    False, False, False, False, False, False, False, False,\n",
       "                    False],\n",
       "        fill_value='?',\n",
       "             dtype=object),\n",
       " 'params': [{'alpha': 1e-15},\n",
       "  {'alpha': 1e-10},\n",
       "  {'alpha': 1e-08},\n",
       "  {'alpha': 0.001},\n",
       "  {'alpha': 0.01},\n",
       "  {'alpha': 1},\n",
       "  {'alpha': 5},\n",
       "  {'alpha': 10},\n",
       "  {'alpha': 20},\n",
       "  {'alpha': 30},\n",
       "  {'alpha': 35},\n",
       "  {'alpha': 40},\n",
       "  {'alpha': 50},\n",
       "  {'alpha': 65},\n",
       "  {'alpha': 80},\n",
       "  {'alpha': 90},\n",
       "  {'alpha': 100}],\n",
       " 'split0_test_score': array([-0.15913691, -0.15913691, -0.15913691, -0.15913691, -0.15913691,\n",
       "        -0.15913691, -0.15913692, -0.15913693, -0.15913696, -0.15913699,\n",
       "        -0.159137  , -0.15913702, -0.15913705, -0.15913709, -0.15913713,\n",
       "        -0.15913716, -0.15913719]),\n",
       " 'split1_test_score': array([-0.29194157, -0.29194157, -0.29194157, -0.29194157, -0.29194157,\n",
       "        -0.29194155, -0.29194149, -0.29194142, -0.29194127, -0.29194112,\n",
       "        -0.29194105, -0.29194097, -0.29194082, -0.2919406 , -0.29194037,\n",
       "        -0.29194022, -0.29194007]),\n",
       " 'split2_test_score': array([-0.21111947, -0.21111947, -0.21111947, -0.21111947, -0.21111947,\n",
       "        -0.21111947, -0.21111945, -0.21111944, -0.2111194 , -0.21111937,\n",
       "        -0.21111936, -0.21111934, -0.21111931, -0.21111926, -0.21111922,\n",
       "        -0.21111918, -0.21111915]),\n",
       " 'split3_test_score': array([-0.10351739, -0.10351739, -0.10351739, -0.10351739, -0.10351739,\n",
       "        -0.10351739, -0.10351741, -0.10351743, -0.10351747, -0.10351751,\n",
       "        -0.10351753, -0.10351755, -0.10351759, -0.10351765, -0.10351771,\n",
       "        -0.10351775, -0.10351779]),\n",
       " 'split4_test_score': array([-0.10837528, -0.10837528, -0.10837528, -0.10837528, -0.10837528,\n",
       "        -0.10837528, -0.1083753 , -0.10837532, -0.10837537, -0.10837541,\n",
       "        -0.10837544, -0.10837546, -0.1083755 , -0.10837557, -0.10837564,\n",
       "        -0.10837568, -0.10837573]),\n",
       " 'mean_test_score': array([-0.17481812, -0.17481812, -0.17481812, -0.17481812, -0.17481812,\n",
       "        -0.17481812, -0.17481812, -0.17481811, -0.17481809, -0.17481808,\n",
       "        -0.17481807, -0.17481807, -0.17481805, -0.17481803, -0.17481801,\n",
       "        -0.174818  , -0.17481799]),\n",
       " 'std_test_score': array([0.07039891, 0.07039891, 0.07039891, 0.07039891, 0.07039891,\n",
       "        0.07039891, 0.07039888, 0.07039884, 0.07039877, 0.0703987 ,\n",
       "        0.07039867, 0.07039863, 0.07039856, 0.07039845, 0.07039835,\n",
       "        0.07039828, 0.07039821]),\n",
       " 'rank_test_score': array([16, 16, 15, 14, 13, 12, 11, 10,  9,  8,  7,  6,  5,  4,  3,  2,  1])}"
      ]
     },
     "execution_count": 21,
     "metadata": {},
     "output_type": "execute_result"
    }
   ],
   "source": [
    "# All Scores\n",
    "ridge_regressor.cv_results_"
   ]
  }
 ],
 "metadata": {
  "kernelspec": {
   "display_name": "Python 3",
   "language": "python",
   "name": "python3"
  },
  "language_info": {
   "codemirror_mode": {
    "name": "ipython",
    "version": 3
   },
   "file_extension": ".py",
   "mimetype": "text/x-python",
   "name": "python",
   "nbconvert_exporter": "python",
   "pygments_lexer": "ipython3",
   "version": "3.7.3"
  }
 },
 "nbformat": 4,
 "nbformat_minor": 5
}
