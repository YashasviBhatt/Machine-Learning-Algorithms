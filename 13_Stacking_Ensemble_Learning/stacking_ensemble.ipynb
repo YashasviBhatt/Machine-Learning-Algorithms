{
 "cells": [
  {
   "cell_type": "code",
   "execution_count": 1,
   "id": "644993cc",
   "metadata": {},
   "outputs": [],
   "source": [
    "# Importing Libraries\n",
    "import numpy as np\n",
    "import pandas as pd\n",
    "from sklearn.model_selection import StratifiedKFold\n",
    "from sklearn.tree import DecisionTreeClassifier\n",
    "from sklearn.linear_model import LogisticRegression\n",
    "from sklearn.neighbors import KNeighborsClassifier\n",
    "from sklearn.model_selection import train_test_split\n",
    "from sklearn.datasets import load_iris"
   ]
  },
  {
   "cell_type": "code",
   "execution_count": 2,
   "id": "db4566d1",
   "metadata": {},
   "outputs": [],
   "source": [
    "# Importing Data\n",
    "df = load_iris()\n",
    "df_iris = pd.DataFrame(np.append(df.data, df.target.reshape(-1, 1), axis=1), columns=df.feature_names+['target'])"
   ]
  },
  {
   "cell_type": "code",
   "execution_count": 3,
   "id": "851f65a2",
   "metadata": {},
   "outputs": [
    {
     "data": {
      "text/html": [
       "<div>\n",
       "<style scoped>\n",
       "    .dataframe tbody tr th:only-of-type {\n",
       "        vertical-align: middle;\n",
       "    }\n",
       "\n",
       "    .dataframe tbody tr th {\n",
       "        vertical-align: top;\n",
       "    }\n",
       "\n",
       "    .dataframe thead th {\n",
       "        text-align: right;\n",
       "    }\n",
       "</style>\n",
       "<table border=\"1\" class=\"dataframe\">\n",
       "  <thead>\n",
       "    <tr style=\"text-align: right;\">\n",
       "      <th></th>\n",
       "      <th>sepal length (cm)</th>\n",
       "      <th>sepal width (cm)</th>\n",
       "      <th>petal length (cm)</th>\n",
       "      <th>petal width (cm)</th>\n",
       "      <th>target</th>\n",
       "    </tr>\n",
       "  </thead>\n",
       "  <tbody>\n",
       "    <tr>\n",
       "      <th>0</th>\n",
       "      <td>5.1</td>\n",
       "      <td>3.5</td>\n",
       "      <td>1.4</td>\n",
       "      <td>0.2</td>\n",
       "      <td>0.0</td>\n",
       "    </tr>\n",
       "    <tr>\n",
       "      <th>1</th>\n",
       "      <td>4.9</td>\n",
       "      <td>3.0</td>\n",
       "      <td>1.4</td>\n",
       "      <td>0.2</td>\n",
       "      <td>0.0</td>\n",
       "    </tr>\n",
       "    <tr>\n",
       "      <th>2</th>\n",
       "      <td>4.7</td>\n",
       "      <td>3.2</td>\n",
       "      <td>1.3</td>\n",
       "      <td>0.2</td>\n",
       "      <td>0.0</td>\n",
       "    </tr>\n",
       "    <tr>\n",
       "      <th>3</th>\n",
       "      <td>4.6</td>\n",
       "      <td>3.1</td>\n",
       "      <td>1.5</td>\n",
       "      <td>0.2</td>\n",
       "      <td>0.0</td>\n",
       "    </tr>\n",
       "    <tr>\n",
       "      <th>4</th>\n",
       "      <td>5.0</td>\n",
       "      <td>3.6</td>\n",
       "      <td>1.4</td>\n",
       "      <td>0.2</td>\n",
       "      <td>0.0</td>\n",
       "    </tr>\n",
       "  </tbody>\n",
       "</table>\n",
       "</div>"
      ],
      "text/plain": [
       "   sepal length (cm)  sepal width (cm)  petal length (cm)  petal width (cm)  \\\n",
       "0                5.1               3.5                1.4               0.2   \n",
       "1                4.9               3.0                1.4               0.2   \n",
       "2                4.7               3.2                1.3               0.2   \n",
       "3                4.6               3.1                1.5               0.2   \n",
       "4                5.0               3.6                1.4               0.2   \n",
       "\n",
       "   target  \n",
       "0     0.0  \n",
       "1     0.0  \n",
       "2     0.0  \n",
       "3     0.0  \n",
       "4     0.0  "
      ]
     },
     "execution_count": 3,
     "metadata": {},
     "output_type": "execute_result"
    }
   ],
   "source": [
    "# Data\n",
    "df_iris.head()"
   ]
  },
  {
   "cell_type": "code",
   "execution_count": 4,
   "id": "96215547",
   "metadata": {},
   "outputs": [
    {
     "name": "stdout",
     "output_type": "stream",
     "text": [
      "<class 'pandas.core.frame.DataFrame'>\n",
      "RangeIndex: 150 entries, 0 to 149\n",
      "Data columns (total 5 columns):\n",
      " #   Column             Non-Null Count  Dtype  \n",
      "---  ------             --------------  -----  \n",
      " 0   sepal length (cm)  150 non-null    float64\n",
      " 1   sepal width (cm)   150 non-null    float64\n",
      " 2   petal length (cm)  150 non-null    float64\n",
      " 3   petal width (cm)   150 non-null    float64\n",
      " 4   target             150 non-null    float64\n",
      "dtypes: float64(5)\n",
      "memory usage: 6.0 KB\n"
     ]
    }
   ],
   "source": [
    "# Data Info\n",
    "df_iris.info()"
   ]
  },
  {
   "cell_type": "code",
   "execution_count": 5,
   "id": "f01a7055",
   "metadata": {},
   "outputs": [
    {
     "data": {
      "text/plain": [
       "(150, 5)"
      ]
     },
     "execution_count": 5,
     "metadata": {},
     "output_type": "execute_result"
    }
   ],
   "source": [
    "# Data Shape\n",
    "df_iris.shape"
   ]
  },
  {
   "cell_type": "code",
   "execution_count": 6,
   "id": "59c94341",
   "metadata": {},
   "outputs": [],
   "source": [
    "# Features and Class\n",
    "X = df.data\n",
    "y = df.target"
   ]
  },
  {
   "cell_type": "code",
   "execution_count": 7,
   "id": "1d61ce6c",
   "metadata": {},
   "outputs": [],
   "source": [
    "# Splitting into Training Set and Testing Set\n",
    "X_train, X_test, y_train, y_test = train_test_split(X, y, test_size=0.1)"
   ]
  },
  {
   "cell_type": "code",
   "execution_count": 8,
   "id": "8a1453f2",
   "metadata": {},
   "outputs": [],
   "source": [
    "# Stacking\n",
    "def stacking(estimator, feature_set, class_set, test_features, n_fold):\n",
    "    '''\n",
    "    Stacking Initial Level Process Implementation\n",
    "    Args:\n",
    "        estimator::[estimator object]\n",
    "            Initial Classifier Object needed to classify the data on first level of stacking\n",
    "        feature_set::[numpy array of dimension (k, m)]\n",
    "            Feature Set required to train model\n",
    "        class_set::[numpy array of dimension (k, )]\n",
    "            Associated Class Set of Feature Set required to train model\n",
    "        test_features::[numpy array of dimension ((n - k), m)]\n",
    "            Test Set ot evaluate classification model\n",
    "        n_fold::[int]\n",
    "            Number of Folds/Pairs of dataset needed to generate for Training and Testing\n",
    "    Returns:\n",
    "        train_pred::[numpy array of dimensions ((k * n_fold), 1)]\n",
    "            Returns the array of prediction for n_fold folds of size (k, ) each\n",
    "        test_pred::[numpy array of dimensions ((n - k * n_fold), 1)]\n",
    "            Returns the array of prediction for test_features of dimensions ((n - k), )\n",
    "    '''\n",
    "    fold = StratifiedKFold(n_splits=n_fold, shuffle=False)\n",
    "    test_pred = np.empty((0, 1), float)\n",
    "    train_pred = np.empty((0, 1), float)\n",
    "    for train_indices, test_indices in fold.split(feature_set, class_set):\n",
    "        train_X, test_X = feature_set[train_indices], feature_set[test_indices]\n",
    "        train_y, test_y = class_set[train_indices], class_set[test_indices]\n",
    "        estimator.fit(train_X, train_y)\n",
    "        train_pred = np.append(train_pred, estimator.predict(test_X))\n",
    "    test_pred = np.append(test_pred, estimator.predict(test_features))\n",
    "    return train_pred, test_pred"
   ]
  },
  {
   "cell_type": "code",
   "execution_count": 9,
   "id": "1b144458",
   "metadata": {},
   "outputs": [],
   "source": [
    "# Classification Model\n",
    "dec_tr_clf = DecisionTreeClassifier(criterion='gini')\n",
    "k_nrst_nbr_clf = KNeighborsClassifier(n_neighbors=5, metric='euclidean')"
   ]
  },
  {
   "cell_type": "code",
   "execution_count": 10,
   "id": "603b76ab",
   "metadata": {},
   "outputs": [],
   "source": [
    "# Initial Classifiers\n",
    "train_pred_dec_tree, test_pred_dec_tree = stacking(estimator=dec_tr_clf, feature_set=X_train, class_set=y_train, test_features=X_test, n_fold=10)\n",
    "train_pred_k_nrst_nbr, test_pred_k_nrst_nbr = stacking(estimator=k_nrst_nbr_clf, feature_set=X_train, class_set=y_train, test_features=X_test, n_fold=10)"
   ]
  },
  {
   "cell_type": "code",
   "execution_count": 11,
   "id": "6d2dbdd9",
   "metadata": {},
   "outputs": [],
   "source": [
    "# Generating Prediction Data\n",
    "meta_df_train = pd.concat([pd.Series(train_pred_dec_tree, name='Decision Tree Classifier'), pd.Series(train_pred_k_nrst_nbr, name='K-Nearest Neighbor Classifier')], axis=1)\n",
    "meta_df_test = pd.concat([pd.Series(test_pred_dec_tree, name='Decision Tree Classifier'), pd.Series(test_pred_k_nrst_nbr, name='K-Nearest Neighbor Classifier')], axis=1)"
   ]
  },
  {
   "cell_type": "code",
   "execution_count": 12,
   "id": "ee419775",
   "metadata": {},
   "outputs": [
    {
     "data": {
      "text/plain": [
       "0.9333333333333333"
      ]
     },
     "execution_count": 12,
     "metadata": {},
     "output_type": "execute_result"
    }
   ],
   "source": [
    "# Meta Classifier\n",
    "log_reg_clf = LogisticRegression(penalty='l2')\n",
    "log_reg_clf.fit(meta_df_train, y_train)\n",
    "log_reg_clf.score(meta_df_test, y_test)"
   ]
  }
 ],
 "metadata": {
  "kernelspec": {
   "display_name": "Python 3",
   "language": "python",
   "name": "python3"
  },
  "language_info": {
   "codemirror_mode": {
    "name": "ipython",
    "version": 3
   },
   "file_extension": ".py",
   "mimetype": "text/x-python",
   "name": "python",
   "nbconvert_exporter": "python",
   "pygments_lexer": "ipython3",
   "version": "3.7.3"
  }
 },
 "nbformat": 4,
 "nbformat_minor": 5
}
