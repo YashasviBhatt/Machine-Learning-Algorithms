{
 "cells": [
  {
   "cell_type": "code",
   "execution_count": 1,
   "id": "60633b26",
   "metadata": {},
   "outputs": [],
   "source": [
    "# Importing Libraries\n",
    "import numpy as np\n",
    "import pandas as pd\n",
    "from sklearn.linear_model import LinearRegression\n",
    "from sklearn.preprocessing import PolynomialFeatures\n",
    "import matplotlib.pyplot as plt_lin_reg_monomial\n",
    "import matplotlib.pyplot as plt_lin_reg_polynomial\n",
    "import matplotlib.pyplot as plt_lin_reg_polynomial_cont"
   ]
  },
  {
   "cell_type": "code",
   "execution_count": 2,
   "id": "9e74812c",
   "metadata": {},
   "outputs": [],
   "source": [
    "# Importing Data\n",
    "df = pd.read_csv('Position_Salaries.csv')"
   ]
  },
  {
   "cell_type": "code",
   "execution_count": 3,
   "id": "e4b6845c",
   "metadata": {},
   "outputs": [
    {
     "data": {
      "text/html": [
       "<div>\n",
       "<style scoped>\n",
       "    .dataframe tbody tr th:only-of-type {\n",
       "        vertical-align: middle;\n",
       "    }\n",
       "\n",
       "    .dataframe tbody tr th {\n",
       "        vertical-align: top;\n",
       "    }\n",
       "\n",
       "    .dataframe thead th {\n",
       "        text-align: right;\n",
       "    }\n",
       "</style>\n",
       "<table border=\"1\" class=\"dataframe\">\n",
       "  <thead>\n",
       "    <tr style=\"text-align: right;\">\n",
       "      <th></th>\n",
       "      <th>Position</th>\n",
       "      <th>Level</th>\n",
       "      <th>Salary</th>\n",
       "    </tr>\n",
       "  </thead>\n",
       "  <tbody>\n",
       "    <tr>\n",
       "      <th>0</th>\n",
       "      <td>Business Analyst</td>\n",
       "      <td>1</td>\n",
       "      <td>45000</td>\n",
       "    </tr>\n",
       "    <tr>\n",
       "      <th>1</th>\n",
       "      <td>Junior Consultant</td>\n",
       "      <td>2</td>\n",
       "      <td>50000</td>\n",
       "    </tr>\n",
       "    <tr>\n",
       "      <th>2</th>\n",
       "      <td>Senior Consultant</td>\n",
       "      <td>3</td>\n",
       "      <td>60000</td>\n",
       "    </tr>\n",
       "    <tr>\n",
       "      <th>3</th>\n",
       "      <td>Manager</td>\n",
       "      <td>4</td>\n",
       "      <td>80000</td>\n",
       "    </tr>\n",
       "    <tr>\n",
       "      <th>4</th>\n",
       "      <td>Country Manager</td>\n",
       "      <td>5</td>\n",
       "      <td>110000</td>\n",
       "    </tr>\n",
       "  </tbody>\n",
       "</table>\n",
       "</div>"
      ],
      "text/plain": [
       "            Position  Level  Salary\n",
       "0   Business Analyst      1   45000\n",
       "1  Junior Consultant      2   50000\n",
       "2  Senior Consultant      3   60000\n",
       "3            Manager      4   80000\n",
       "4    Country Manager      5  110000"
      ]
     },
     "execution_count": 3,
     "metadata": {},
     "output_type": "execute_result"
    }
   ],
   "source": [
    "# Data\n",
    "df.head()"
   ]
  },
  {
   "cell_type": "code",
   "execution_count": 4,
   "id": "d921dd59",
   "metadata": {},
   "outputs": [
    {
     "data": {
      "text/plain": [
       "(10, 3)"
      ]
     },
     "execution_count": 4,
     "metadata": {},
     "output_type": "execute_result"
    }
   ],
   "source": [
    "# Data Shape\n",
    "df.shape"
   ]
  },
  {
   "cell_type": "code",
   "execution_count": 5,
   "id": "b4e326db",
   "metadata": {},
   "outputs": [
    {
     "name": "stdout",
     "output_type": "stream",
     "text": [
      "<class 'pandas.core.frame.DataFrame'>\n",
      "RangeIndex: 10 entries, 0 to 9\n",
      "Data columns (total 3 columns):\n",
      " #   Column    Non-Null Count  Dtype \n",
      "---  ------    --------------  ----- \n",
      " 0   Position  10 non-null     object\n",
      " 1   Level     10 non-null     int64 \n",
      " 2   Salary    10 non-null     int64 \n",
      "dtypes: int64(2), object(1)\n",
      "memory usage: 368.0+ bytes\n"
     ]
    }
   ],
   "source": [
    "# Data Info\n",
    "df.info()"
   ]
  },
  {
   "cell_type": "code",
   "execution_count": 6,
   "id": "fa3d9679",
   "metadata": {},
   "outputs": [],
   "source": [
    "# Features and Class\n",
    "X = df.iloc[:, 1:-1]\n",
    "y = df.iloc[:, 2]"
   ]
  },
  {
   "cell_type": "code",
   "execution_count": 7,
   "id": "017fc2ba",
   "metadata": {},
   "outputs": [
    {
     "data": {
      "text/plain": [
       "LinearRegression()"
      ]
     },
     "execution_count": 7,
     "metadata": {},
     "output_type": "execute_result"
    }
   ],
   "source": [
    "# Linear Regression on Non-Polynomial or Monomial Data\n",
    "lin_reg_monomial = LinearRegression()\n",
    "lin_reg_monomial.fit(X, y)"
   ]
  },
  {
   "cell_type": "code",
   "execution_count": 8,
   "id": "7471c091",
   "metadata": {},
   "outputs": [],
   "source": [
    "# Polynomial Feature Conversion\n",
    "poly_reg = PolynomialFeatures(degree=3)\n",
    "X_poly = poly_reg.fit_transform(X)"
   ]
  },
  {
   "cell_type": "code",
   "execution_count": 9,
   "id": "e4627d59",
   "metadata": {},
   "outputs": [
    {
     "data": {
      "text/plain": [
       "LinearRegression()"
      ]
     },
     "execution_count": 9,
     "metadata": {},
     "output_type": "execute_result"
    }
   ],
   "source": [
    "# Linear Regression on Polynomial Data\n",
    "lin_reg_polynomial = LinearRegression()\n",
    "lin_reg_polynomial.fit(X_poly, y)"
   ]
  },
  {
   "cell_type": "code",
   "execution_count": 10,
   "id": "ebc24eaa",
   "metadata": {},
   "outputs": [
    {
     "data": {
      "text/plain": [
       "(330378.78787878784, 133259.46969697234)"
      ]
     },
     "execution_count": 10,
     "metadata": {},
     "output_type": "execute_result"
    }
   ],
   "source": [
    "# Comparing Results\n",
    "lin_reg_monomial.predict(np.array([[6.5]]))[0], lin_reg_polynomial.predict(poly_reg.transform(np.array([[6.5]])))[0]"
   ]
  },
  {
   "cell_type": "code",
   "execution_count": 11,
   "id": "2dfec605",
   "metadata": {},
   "outputs": [
    {
     "data": {
      "image/png": "[encoded data removed]",
      "text/plain": [
       "<Figure size 432x288 with 1 Axes>"
      ]
     },
     "metadata": {
      "needs_background": "light"
     },
     "output_type": "display_data"
    }
   ],
   "source": [
    "# Visualizing Linear Regression Results\n",
    "plt_lin_reg_monomial.scatter(X, y, color='red', label='Scatter Plot')\n",
    "plt_lin_reg_monomial.plot(X, lin_reg_monomial.predict(X), label='Regression Line')\n",
    "plt_lin_reg_monomial.title('Position Level vs Salary (Underfitting)')\n",
    "plt_lin_reg_monomial.xlabel('Position Level')\n",
    "plt_lin_reg_monomial.ylabel('Salary')\n",
    "plt_lin_reg_monomial.show()"
   ]
  },
  {
   "cell_type": "code",
   "execution_count": 12,
   "id": "7d164404",
   "metadata": {},
   "outputs": [
    {
     "data": {
      "image/png": "[encoded data removed]",
      "text/plain": [
       "<Figure size 432x288 with 1 Axes>"
      ]
     },
     "metadata": {
      "needs_background": "light"
     },
     "output_type": "display_data"
    }
   ],
   "source": [
    "# Visualizing Polynomial Regression Results\n",
    "plt_lin_reg_polynomial.scatter(X, y, color='red', label='Scatter Plot')\n",
    "plt_lin_reg_polynomial.plot(X, lin_reg_polynomial.predict(X_poly), label='Regression Line')\n",
    "plt_lin_reg_polynomial.title('Position Level vs Salary (Best Fit)')\n",
    "plt_lin_reg_polynomial.xlabel('Position Level')\n",
    "plt_lin_reg_polynomial.ylabel('Salary')\n",
    "plt_lin_reg_polynomial.show()"
   ]
  },
  {
   "cell_type": "code",
   "execution_count": 13,
   "id": "4f88aa25",
   "metadata": {},
   "outputs": [
    {
     "data": {
      "image/png": "[encoded data removed]",
      "text/plain": [
       "<Figure size 432x288 with 1 Axes>"
      ]
     },
     "metadata": {
      "needs_background": "light"
     },
     "output_type": "display_data"
    }
   ],
   "source": [
    "# Visualizing Polynomial Regression Results (more continuous graph)\n",
    "X_grid = np.arange(min(X.values), max(X.values), 0.1)\n",
    "X_grid = X_grid.reshape(len(X_grid), 1)\n",
    "plt_lin_reg_polynomial_cont.scatter(X, y, color='red', label='Scatter Plot')\n",
    "plt_lin_reg_polynomial_cont.plot(X_grid, lin_reg_polynomial.predict(poly_reg.fit_transform(X_grid)), label='Regression Line')\n",
    "plt_lin_reg_polynomial_cont.title('Position Level vs Salary (Best Fit Continuous)')\n",
    "plt_lin_reg_polynomial_cont.xlabel('Position Level')\n",
    "plt_lin_reg_polynomial_cont.ylabel('Salary')\n",
    "plt_lin_reg_polynomial_cont.show()"
   ]
  }
 ],
 "metadata": {
  "kernelspec": {
   "display_name": "Python 3",
   "language": "python",
   "name": "python3"
  },
  "language_info": {
   "codemirror_mode": {
    "name": "ipython",
    "version": 3
   },
   "file_extension": ".py",
   "mimetype": "text/x-python",
   "name": "python",
   "nbconvert_exporter": "python",
   "pygments_lexer": "ipython3",
   "version": "3.7.3"
  }
 },
 "nbformat": 4,
 "nbformat_minor": 5
}
