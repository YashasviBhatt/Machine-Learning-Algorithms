{
 "cells": [
  {
   "cell_type": "code",
   "execution_count": 1,
   "id": "59366590",
   "metadata": {},
   "outputs": [],
   "source": [
    "# Importing Libraries\n",
    "import numpy as np\n",
    "import pandas as pd\n",
    "from sklearn.linear_model import LinearRegression\n",
    "from sklearn.model_selection import cross_val_score\n",
    "from sklearn.model_selection import GridSearchCV\n",
    "from sklearn.linear_model import Lasso"
   ]
  },
  {
   "cell_type": "code",
   "execution_count": 2,
   "id": "1b142f63",
   "metadata": {},
   "outputs": [],
   "source": [
    "# Ignoring Warnings\n",
    "import warnings\n",
    "warnings.filterwarnings('ignore')"
   ]
  },
  {
   "cell_type": "code",
   "execution_count": 3,
   "id": "2f6ef5e8",
   "metadata": {},
   "outputs": [],
   "source": [
    "# Importing Data\n",
    "df = pd.read_csv('data.csv')"
   ]
  },
  {
   "cell_type": "code",
   "execution_count": 4,
   "id": "01224b06",
   "metadata": {},
   "outputs": [
    {
     "data": {
      "text/html": [
       "<div>\n",
       "<style scoped>\n",
       "    .dataframe tbody tr th:only-of-type {\n",
       "        vertical-align: middle;\n",
       "    }\n",
       "\n",
       "    .dataframe tbody tr th {\n",
       "        vertical-align: top;\n",
       "    }\n",
       "\n",
       "    .dataframe thead th {\n",
       "        text-align: right;\n",
       "    }\n",
       "</style>\n",
       "<table border=\"1\" class=\"dataframe\">\n",
       "  <thead>\n",
       "    <tr style=\"text-align: right;\">\n",
       "      <th></th>\n",
       "      <th>ID</th>\n",
       "      <th>T_degC</th>\n",
       "      <th>Salnty</th>\n",
       "    </tr>\n",
       "  </thead>\n",
       "  <tbody>\n",
       "    <tr>\n",
       "      <th>0</th>\n",
       "      <td>0</td>\n",
       "      <td>10.50</td>\n",
       "      <td>33.440</td>\n",
       "    </tr>\n",
       "    <tr>\n",
       "      <th>1</th>\n",
       "      <td>1</td>\n",
       "      <td>10.46</td>\n",
       "      <td>33.440</td>\n",
       "    </tr>\n",
       "    <tr>\n",
       "      <th>2</th>\n",
       "      <td>2</td>\n",
       "      <td>10.46</td>\n",
       "      <td>33.437</td>\n",
       "    </tr>\n",
       "    <tr>\n",
       "      <th>3</th>\n",
       "      <td>3</td>\n",
       "      <td>10.45</td>\n",
       "      <td>33.420</td>\n",
       "    </tr>\n",
       "    <tr>\n",
       "      <th>4</th>\n",
       "      <td>4</td>\n",
       "      <td>10.45</td>\n",
       "      <td>33.421</td>\n",
       "    </tr>\n",
       "  </tbody>\n",
       "</table>\n",
       "</div>"
      ],
      "text/plain": [
       "   ID  T_degC  Salnty\n",
       "0   0   10.50  33.440\n",
       "1   1   10.46  33.440\n",
       "2   2   10.46  33.437\n",
       "3   3   10.45  33.420\n",
       "4   4   10.45  33.421"
      ]
     },
     "execution_count": 4,
     "metadata": {},
     "output_type": "execute_result"
    }
   ],
   "source": [
    "# Data\n",
    "df.head()"
   ]
  },
  {
   "cell_type": "code",
   "execution_count": 5,
   "id": "d86977d1",
   "metadata": {},
   "outputs": [
    {
     "data": {
      "text/plain": [
       "(864863, 3)"
      ]
     },
     "execution_count": 5,
     "metadata": {},
     "output_type": "execute_result"
    }
   ],
   "source": [
    "# Data Set Dimensions\n",
    "df.shape"
   ]
  },
  {
   "cell_type": "code",
   "execution_count": 6,
   "id": "6b96b62d",
   "metadata": {},
   "outputs": [
    {
     "name": "stdout",
     "output_type": "stream",
     "text": [
      "<class 'pandas.core.frame.DataFrame'>\n",
      "RangeIndex: 864863 entries, 0 to 864862\n",
      "Data columns (total 3 columns):\n",
      " #   Column  Non-Null Count   Dtype  \n",
      "---  ------  --------------   -----  \n",
      " 0   ID      864863 non-null  int64  \n",
      " 1   T_degC  853900 non-null  float64\n",
      " 2   Salnty  817509 non-null  float64\n",
      "dtypes: float64(2), int64(1)\n",
      "memory usage: 19.8 MB\n"
     ]
    }
   ],
   "source": [
    "# Data Info\n",
    "df.info()"
   ]
  },
  {
   "cell_type": "code",
   "execution_count": 7,
   "id": "8479d9ca",
   "metadata": {},
   "outputs": [
    {
     "data": {
      "text/plain": [
       "ID            0\n",
       "T_degC    10963\n",
       "Salnty    47354\n",
       "dtype: int64"
      ]
     },
     "execution_count": 7,
     "metadata": {},
     "output_type": "execute_result"
    }
   ],
   "source": [
    "# Null Count in Data Set\n",
    "df.isnull().sum()"
   ]
  },
  {
   "cell_type": "code",
   "execution_count": 8,
   "id": "7da58e9e",
   "metadata": {},
   "outputs": [],
   "source": [
    "# Dropping ID Column\n",
    "df = df.drop('ID', axis=1)"
   ]
  },
  {
   "cell_type": "code",
   "execution_count": 9,
   "id": "ffa6a0f1",
   "metadata": {},
   "outputs": [],
   "source": [
    "# Dropping Null Values\n",
    "df.dropna(axis=0, how='any', inplace=True)"
   ]
  },
  {
   "cell_type": "code",
   "execution_count": 10,
   "id": "40362fad",
   "metadata": {},
   "outputs": [
    {
     "data": {
      "text/plain": [
       "T_degC    0\n",
       "Salnty    0\n",
       "dtype: int64"
      ]
     },
     "execution_count": 10,
     "metadata": {},
     "output_type": "execute_result"
    }
   ],
   "source": [
    "# Null Count in Data Set after dropping Null\n",
    "df.isnull().sum()"
   ]
  },
  {
   "cell_type": "code",
   "execution_count": 11,
   "id": "b38bcf0a",
   "metadata": {},
   "outputs": [
    {
     "data": {
      "text/plain": [
       "(814247, 2)"
      ]
     },
     "execution_count": 11,
     "metadata": {},
     "output_type": "execute_result"
    }
   ],
   "source": [
    "# Dimensions of Dataset after removing all Null containing Rows\n",
    "df.shape"
   ]
  },
  {
   "cell_type": "code",
   "execution_count": 12,
   "id": "0591e805",
   "metadata": {},
   "outputs": [],
   "source": [
    "# Resetting Index\n",
    "df.reset_index(drop=True, inplace=True)"
   ]
  },
  {
   "cell_type": "code",
   "execution_count": 13,
   "id": "8c6aeced",
   "metadata": {},
   "outputs": [
    {
     "data": {
      "text/html": [
       "<div>\n",
       "<style scoped>\n",
       "    .dataframe tbody tr th:only-of-type {\n",
       "        vertical-align: middle;\n",
       "    }\n",
       "\n",
       "    .dataframe tbody tr th {\n",
       "        vertical-align: top;\n",
       "    }\n",
       "\n",
       "    .dataframe thead th {\n",
       "        text-align: right;\n",
       "    }\n",
       "</style>\n",
       "<table border=\"1\" class=\"dataframe\">\n",
       "  <thead>\n",
       "    <tr style=\"text-align: right;\">\n",
       "      <th></th>\n",
       "      <th>T_degC</th>\n",
       "      <th>Salnty</th>\n",
       "    </tr>\n",
       "  </thead>\n",
       "  <tbody>\n",
       "    <tr>\n",
       "      <th>0</th>\n",
       "      <td>10.50</td>\n",
       "      <td>33.440</td>\n",
       "    </tr>\n",
       "    <tr>\n",
       "      <th>1</th>\n",
       "      <td>10.46</td>\n",
       "      <td>33.440</td>\n",
       "    </tr>\n",
       "    <tr>\n",
       "      <th>2</th>\n",
       "      <td>10.46</td>\n",
       "      <td>33.437</td>\n",
       "    </tr>\n",
       "    <tr>\n",
       "      <th>3</th>\n",
       "      <td>10.45</td>\n",
       "      <td>33.420</td>\n",
       "    </tr>\n",
       "    <tr>\n",
       "      <th>4</th>\n",
       "      <td>10.45</td>\n",
       "      <td>33.421</td>\n",
       "    </tr>\n",
       "  </tbody>\n",
       "</table>\n",
       "</div>"
      ],
      "text/plain": [
       "   T_degC  Salnty\n",
       "0   10.50  33.440\n",
       "1   10.46  33.440\n",
       "2   10.46  33.437\n",
       "3   10.45  33.420\n",
       "4   10.45  33.421"
      ]
     },
     "execution_count": 13,
     "metadata": {},
     "output_type": "execute_result"
    }
   ],
   "source": [
    "# Dataset\n",
    "df.head()"
   ]
  },
  {
   "cell_type": "code",
   "execution_count": 14,
   "id": "4c69ea30",
   "metadata": {},
   "outputs": [],
   "source": [
    "# Feature Set and Class Set\n",
    "X = df.iloc[0:, 0].values\n",
    "y = df.iloc[0:, 1].values"
   ]
  },
  {
   "cell_type": "code",
   "execution_count": 15,
   "id": "af5dbbe2",
   "metadata": {},
   "outputs": [],
   "source": [
    "# Reshaping Feature Set\n",
    "X = X.reshape(-1, 1)"
   ]
  },
  {
   "cell_type": "code",
   "execution_count": 16,
   "id": "e32e86c1",
   "metadata": {},
   "outputs": [],
   "source": [
    "# Linear Regression\n",
    "lin_reg = LinearRegression()"
   ]
  },
  {
   "cell_type": "code",
   "execution_count": 17,
   "id": "22134c80",
   "metadata": {},
   "outputs": [
    {
     "data": {
      "text/plain": [
       "-0.1748181221229268"
      ]
     },
     "execution_count": 17,
     "metadata": {},
     "output_type": "execute_result"
    }
   ],
   "source": [
    "# Mean Square Error\n",
    "mse = cross_val_score(lin_reg, X, y, scoring='neg_mean_squared_error', cv=5)\n",
    "mean_mse = np.mean(mse)\n",
    "mean_mse"
   ]
  },
  {
   "cell_type": "code",
   "execution_count": 18,
   "id": "f73e13fa",
   "metadata": {},
   "outputs": [],
   "source": [
    "# Lasso Regression\n",
    "lasso = Lasso()"
   ]
  },
  {
   "cell_type": "code",
   "execution_count": 19,
   "id": "f2376db2",
   "metadata": {},
   "outputs": [
    {
     "data": {
      "text/plain": [
       "GridSearchCV(cv=5, estimator=Lasso(), n_jobs=-1,\n",
       "             param_grid={'alpha': [1e-15, 1e-10, 1e-08, 0.001, 0.01, 1, 5, 10,\n",
       "                                   20, 30, 35, 40, 50, 65, 80, 90, 100]},\n",
       "             scoring='neg_mean_squared_error')"
      ]
     },
     "execution_count": 19,
     "metadata": {},
     "output_type": "execute_result"
    }
   ],
   "source": [
    "# Performing Hyper-Parameter Tuning\n",
    "\n",
    "# Setting Parameters\n",
    "parameters = {\n",
    "    'alpha': [1e-15, 1e-10, 1e-8, 1e-3, 1e-2, 1, 5, 10, 20, 30, 35, 40, 50, 65, 80, 90, 100]\n",
    "}\n",
    "\n",
    "# Performing Grid Search on Parameters\n",
    "lasso_regressor = GridSearchCV(\n",
    "    estimator=lasso, \n",
    "    param_grid=parameters, \n",
    "    scoring='neg_mean_squared_error', \n",
    "    n_jobs=-1, cv=5\n",
    ")\n",
    "\n",
    "# Fitting the Model on Data\n",
    "lasso_regressor.fit(X, y)"
   ]
  },
  {
   "cell_type": "code",
   "execution_count": 20,
   "id": "e0676e20",
   "metadata": {},
   "outputs": [
    {
     "data": {
      "text/plain": [
       "({'alpha': 0.01}, -0.17476260712980246)"
      ]
     },
     "execution_count": 20,
     "metadata": {},
     "output_type": "execute_result"
    }
   ],
   "source": [
    "# Best Fit Model Constraints\n",
    "(lasso_regressor.best_params_, lasso_regressor.best_score_)"
   ]
  },
  {
   "cell_type": "code",
   "execution_count": 21,
   "id": "07a9468b",
   "metadata": {},
   "outputs": [
    {
     "data": {
      "text/plain": [
       "{'mean_fit_time': array([1.49650655, 0.13202353, 0.1389502 , 0.14242501, 0.13798056,\n",
       "        0.12810135, 0.12351098, 0.11774726, 0.12345796, 0.12473102,\n",
       "        0.12780175, 0.121667  , 0.12279301, 0.13099332, 0.12935138,\n",
       "        0.12981057, 0.12086096]),\n",
       " 'std_fit_time': array([2.73420522e+00, 3.78464467e-03, 8.13457316e-03, 5.71230213e-03,\n",
       "        7.96164004e-03, 8.23586721e-03, 4.27744831e-03, 4.56581215e-03,\n",
       "        7.25805061e-03, 4.06207910e-03, 7.02719714e-03, 9.19060003e-03,\n",
       "        1.67263967e-03, 5.81903380e-03, 1.03356811e-02, 3.91753878e-03,\n",
       "        3.00653631e-03]),\n",
       " 'mean_score_time': array([0.00830541, 0.01445956, 0.01193299, 0.01359372, 0.01062574,\n",
       "        0.01386247, 0.01268706, 0.00946517, 0.01269774, 0.01024199,\n",
       "        0.01069016, 0.01428671, 0.01646686, 0.01144233, 0.01436496,\n",
       "        0.01178608, 0.01041288]),\n",
       " 'std_score_time': array([4.17061081e-03, 4.85033724e-03, 3.19890667e-03, 4.15525856e-03,\n",
       "        8.14306496e-04, 3.74638101e-03, 2.96569076e-03, 3.80767511e-03,\n",
       "        6.51283466e-03, 8.75641042e-05, 5.16516296e-03, 4.28320093e-03,\n",
       "        4.69966670e-03, 9.98840148e-04, 3.31199132e-03, 3.23163510e-03,\n",
       "        2.34383454e-04]),\n",
       " 'param_alpha': masked_array(data=[1e-15, 1e-10, 1e-08, 0.001, 0.01, 1, 5, 10, 20, 30, 35,\n",
       "                    40, 50, 65, 80, 90, 100],\n",
       "              mask=[False, False, False, False, False, False, False, False,\n",
       "                    False, False, False, False, False, False, False, False,\n",
       "                    False],\n",
       "        fill_value='?',\n",
       "             dtype=object),\n",
       " 'params': [{'alpha': 1e-15},\n",
       "  {'alpha': 1e-10},\n",
       "  {'alpha': 1e-08},\n",
       "  {'alpha': 0.001},\n",
       "  {'alpha': 0.01},\n",
       "  {'alpha': 1},\n",
       "  {'alpha': 5},\n",
       "  {'alpha': 10},\n",
       "  {'alpha': 20},\n",
       "  {'alpha': 30},\n",
       "  {'alpha': 35},\n",
       "  {'alpha': 40},\n",
       "  {'alpha': 50},\n",
       "  {'alpha': 65},\n",
       "  {'alpha': 80},\n",
       "  {'alpha': 90},\n",
       "  {'alpha': 100}],\n",
       " 'split0_test_score': array([-0.15913691, -0.15913691, -0.15913691, -0.15917228, -0.15949663,\n",
       "        -0.24462684, -0.24462684, -0.24462684, -0.24462684, -0.24462684,\n",
       "        -0.24462684, -0.24462684, -0.24462684, -0.24462684, -0.24462684,\n",
       "        -0.24462684, -0.24462684]),\n",
       " 'split1_test_score': array([-0.29194157, -0.29194157, -0.29194157, -0.29179882, -0.29052137,\n",
       "        -0.23046029, -0.23471171, -0.23471171, -0.23471171, -0.23471171,\n",
       "        -0.23471171, -0.23471171, -0.23471171, -0.23471171, -0.23471171,\n",
       "        -0.23471171, -0.23471171]),\n",
       " 'split2_test_score': array([-0.21111947, -0.21111947, -0.21111947, -0.21108444, -0.21077463,\n",
       "        -0.23631106, -0.23942738, -0.23942738, -0.23942738, -0.23942738,\n",
       "        -0.23942738, -0.23942738, -0.23942738, -0.23942738, -0.23942738,\n",
       "        -0.23942738, -0.23942738]),\n",
       " 'split3_test_score': array([-0.10351739, -0.10351739, -0.10351739, -0.10356955, -0.10404288,\n",
       "        -0.18903147, -0.18903147, -0.18903147, -0.18903147, -0.18903147,\n",
       "        -0.18903147, -0.18903147, -0.18903147, -0.18903147, -0.18903147,\n",
       "        -0.18903147, -0.18903147]),\n",
       " 'split4_test_score': array([-0.10837528, -0.10837528, -0.10837528, -0.10843516, -0.10897753,\n",
       "        -0.1965611 , -0.1965611 , -0.1965611 , -0.1965611 , -0.1965611 ,\n",
       "        -0.1965611 , -0.1965611 , -0.1965611 , -0.1965611 , -0.1965611 ,\n",
       "        -0.1965611 , -0.1965611 ]),\n",
       " 'mean_test_score': array([-0.17481812, -0.17481812, -0.17481812, -0.17481205, -0.17476261,\n",
       "        -0.21939815, -0.2208717 , -0.2208717 , -0.2208717 , -0.2208717 ,\n",
       "        -0.2208717 , -0.2208717 , -0.2208717 , -0.2208717 , -0.2208717 ,\n",
       "        -0.2208717 , -0.2208717 ]),\n",
       " 'std_test_score': array([0.07039891, 0.07039891, 0.07039891, 0.07032436, 0.06965481,\n",
       "        0.02230951, 0.02325929, 0.02325929, 0.02325929, 0.02325929,\n",
       "        0.02325929, 0.02325929, 0.02325929, 0.02325929, 0.02325929,\n",
       "        0.02325929, 0.02325929]),\n",
       " 'rank_test_score': array([5, 4, 3, 2, 1, 6, 7, 7, 7, 7, 7, 7, 7, 7, 7, 7, 7])}"
      ]
     },
     "execution_count": 21,
     "metadata": {},
     "output_type": "execute_result"
    }
   ],
   "source": [
    "# All Scores\n",
    "lasso_regressor.cv_results_"
   ]
  }
 ],
 "metadata": {
  "kernelspec": {
   "display_name": "Python 3",
   "language": "python",
   "name": "python3"
  },
  "language_info": {
   "codemirror_mode": {
    "name": "ipython",
    "version": 3
   },
   "file_extension": ".py",
   "mimetype": "text/x-python",
   "name": "python",
   "nbconvert_exporter": "python",
   "pygments_lexer": "ipython3",
   "version": "3.7.3"
  }
 },
 "nbformat": 4,
 "nbformat_minor": 5
}
