{
 "cells": [
  {
   "cell_type": "code",
   "execution_count": 1,
   "id": "ee4ead01",
   "metadata": {},
   "outputs": [],
   "source": [
    "# Importing Libraries\n",
    "import numpy as np\n",
    "import pandas as pd\n",
    "from sklearn.tree import DecisionTreeClassifier\n",
    "from sklearn.linear_model import LogisticRegression\n",
    "from sklearn.neighbors import KNeighborsClassifier\n",
    "from sklearn.model_selection import train_test_split\n",
    "from sklearn.datasets import load_iris"
   ]
  },
  {
   "cell_type": "code",
   "execution_count": 2,
   "id": "fee69058",
   "metadata": {},
   "outputs": [],
   "source": [
    "# Importing Data\n",
    "df = load_iris()\n",
    "df_iris = pd.DataFrame(np.append(df.data, df.target.reshape(-1, 1), axis=1), columns=df.feature_names+['target'])"
   ]
  },
  {
   "cell_type": "code",
   "execution_count": 3,
   "id": "dc1ce870",
   "metadata": {},
   "outputs": [
    {
     "data": {
      "text/html": [
       "<div>\n",
       "<style scoped>\n",
       "    .dataframe tbody tr th:only-of-type {\n",
       "        vertical-align: middle;\n",
       "    }\n",
       "\n",
       "    .dataframe tbody tr th {\n",
       "        vertical-align: top;\n",
       "    }\n",
       "\n",
       "    .dataframe thead th {\n",
       "        text-align: right;\n",
       "    }\n",
       "</style>\n",
       "<table border=\"1\" class=\"dataframe\">\n",
       "  <thead>\n",
       "    <tr style=\"text-align: right;\">\n",
       "      <th></th>\n",
       "      <th>sepal length (cm)</th>\n",
       "      <th>sepal width (cm)</th>\n",
       "      <th>petal length (cm)</th>\n",
       "      <th>petal width (cm)</th>\n",
       "      <th>target</th>\n",
       "    </tr>\n",
       "  </thead>\n",
       "  <tbody>\n",
       "    <tr>\n",
       "      <th>0</th>\n",
       "      <td>5.1</td>\n",
       "      <td>3.5</td>\n",
       "      <td>1.4</td>\n",
       "      <td>0.2</td>\n",
       "      <td>0.0</td>\n",
       "    </tr>\n",
       "    <tr>\n",
       "      <th>1</th>\n",
       "      <td>4.9</td>\n",
       "      <td>3.0</td>\n",
       "      <td>1.4</td>\n",
       "      <td>0.2</td>\n",
       "      <td>0.0</td>\n",
       "    </tr>\n",
       "    <tr>\n",
       "      <th>2</th>\n",
       "      <td>4.7</td>\n",
       "      <td>3.2</td>\n",
       "      <td>1.3</td>\n",
       "      <td>0.2</td>\n",
       "      <td>0.0</td>\n",
       "    </tr>\n",
       "    <tr>\n",
       "      <th>3</th>\n",
       "      <td>4.6</td>\n",
       "      <td>3.1</td>\n",
       "      <td>1.5</td>\n",
       "      <td>0.2</td>\n",
       "      <td>0.0</td>\n",
       "    </tr>\n",
       "    <tr>\n",
       "      <th>4</th>\n",
       "      <td>5.0</td>\n",
       "      <td>3.6</td>\n",
       "      <td>1.4</td>\n",
       "      <td>0.2</td>\n",
       "      <td>0.0</td>\n",
       "    </tr>\n",
       "  </tbody>\n",
       "</table>\n",
       "</div>"
      ],
      "text/plain": [
       "   sepal length (cm)  sepal width (cm)  petal length (cm)  petal width (cm)  \\\n",
       "0                5.1               3.5                1.4               0.2   \n",
       "1                4.9               3.0                1.4               0.2   \n",
       "2                4.7               3.2                1.3               0.2   \n",
       "3                4.6               3.1                1.5               0.2   \n",
       "4                5.0               3.6                1.4               0.2   \n",
       "\n",
       "   target  \n",
       "0     0.0  \n",
       "1     0.0  \n",
       "2     0.0  \n",
       "3     0.0  \n",
       "4     0.0  "
      ]
     },
     "execution_count": 3,
     "metadata": {},
     "output_type": "execute_result"
    }
   ],
   "source": [
    "# Data\n",
    "df_iris.head()"
   ]
  },
  {
   "cell_type": "code",
   "execution_count": 4,
   "id": "f70c34ea",
   "metadata": {},
   "outputs": [
    {
     "name": "stdout",
     "output_type": "stream",
     "text": [
      "<class 'pandas.core.frame.DataFrame'>\n",
      "RangeIndex: 150 entries, 0 to 149\n",
      "Data columns (total 5 columns):\n",
      " #   Column             Non-Null Count  Dtype  \n",
      "---  ------             --------------  -----  \n",
      " 0   sepal length (cm)  150 non-null    float64\n",
      " 1   sepal width (cm)   150 non-null    float64\n",
      " 2   petal length (cm)  150 non-null    float64\n",
      " 3   petal width (cm)   150 non-null    float64\n",
      " 4   target             150 non-null    float64\n",
      "dtypes: float64(5)\n",
      "memory usage: 6.0 KB\n"
     ]
    }
   ],
   "source": [
    "# Data Info\n",
    "df_iris.info()"
   ]
  },
  {
   "cell_type": "code",
   "execution_count": 5,
   "id": "baaa97d9",
   "metadata": {},
   "outputs": [
    {
     "data": {
      "text/plain": [
       "(150, 5)"
      ]
     },
     "execution_count": 5,
     "metadata": {},
     "output_type": "execute_result"
    }
   ],
   "source": [
    "# Data Shape\n",
    "df_iris.shape"
   ]
  },
  {
   "cell_type": "code",
   "execution_count": 6,
   "id": "b2dadfa8",
   "metadata": {},
   "outputs": [],
   "source": [
    "# Features and Class\n",
    "X = df.data[: 120, :]\n",
    "y = df.target[: 120]\n",
    "X_test = df.data[120: , :]\n",
    "y_test = df.target[120: ]"
   ]
  },
  {
   "cell_type": "code",
   "execution_count": 7,
   "id": "e8f52286",
   "metadata": {},
   "outputs": [],
   "source": [
    "# Splitting into Training Set and Testing Set\n",
    "X_train, X_val, y_train, y_val = train_test_split(X, y, test_size=0.1)"
   ]
  },
  {
   "cell_type": "code",
   "execution_count": 8,
   "id": "2fb10375",
   "metadata": {},
   "outputs": [],
   "source": [
    "# Classification Model\n",
    "dec_tr_clf = DecisionTreeClassifier(criterion='gini')\n",
    "k_nrst_nbr_clf = KNeighborsClassifier(n_neighbors=5, metric='euclidean')"
   ]
  },
  {
   "cell_type": "code",
   "execution_count": 9,
   "id": "62720c6d",
   "metadata": {},
   "outputs": [
    {
     "data": {
      "text/plain": [
       "KNeighborsClassifier(metric='euclidean')"
      ]
     },
     "execution_count": 9,
     "metadata": {},
     "output_type": "execute_result"
    }
   ],
   "source": [
    "# Initial Classifier\n",
    "dec_tr_clf.fit(X_train, y_train)\n",
    "k_nrst_nbr_clf.fit(X_train, y_train)"
   ]
  },
  {
   "cell_type": "code",
   "execution_count": 10,
   "id": "409df5ef",
   "metadata": {},
   "outputs": [],
   "source": [
    "# Initial Classifier Train Prediction\n",
    "train_pred_dec_tree = dec_tr_clf.predict(X_val)\n",
    "train_pred_k_nrst_nbr = k_nrst_nbr_clf.predict(X_val)"
   ]
  },
  {
   "cell_type": "code",
   "execution_count": 11,
   "id": "1a3998d3",
   "metadata": {},
   "outputs": [],
   "source": [
    "# Initial Classifier Test Prediction\n",
    "test_pred_dec_tree = dec_tr_clf.predict(X_test)\n",
    "test_pred_k_nrst_nbr = k_nrst_nbr_clf.predict(X_test)"
   ]
  },
  {
   "cell_type": "code",
   "execution_count": 12,
   "id": "46f07645",
   "metadata": {},
   "outputs": [],
   "source": [
    "# Generating Prediction Data\n",
    "meta_df_train = pd.concat([pd.DataFrame(X_val), pd.Series(train_pred_dec_tree, name='Decision Tree Classifier'), pd.Series(train_pred_k_nrst_nbr, name='K-Nearest Neighbor Classifier')], axis=1)\n",
    "meta_df_test = pd.concat([pd.DataFrame(X_test), pd.Series(test_pred_dec_tree, name='Decision Tree Classifier'), pd.Series(test_pred_k_nrst_nbr, name='K-Nearest Neighbor Classifier')], axis=1)"
   ]
  },
  {
   "cell_type": "code",
   "execution_count": 13,
   "id": "8053d179",
   "metadata": {},
   "outputs": [
    {
     "data": {
      "text/plain": [
       "0.7333333333333333"
      ]
     },
     "execution_count": 13,
     "metadata": {},
     "output_type": "execute_result"
    }
   ],
   "source": [
    "# Meta Classifier\n",
    "log_reg_clf = LogisticRegression(penalty='l2')\n",
    "log_reg_clf.fit(meta_df_train, y_val)\n",
    "log_reg_clf.score(meta_df_test, y_test)"
   ]
  }
 ],
 "metadata": {
  "kernelspec": {
   "display_name": "Python 3",
   "language": "python",
   "name": "python3"
  },
  "language_info": {
   "codemirror_mode": {
    "name": "ipython",
    "version": 3
   },
   "file_extension": ".py",
   "mimetype": "text/x-python",
   "name": "python",
   "nbconvert_exporter": "python",
   "pygments_lexer": "ipython3",
   "version": "3.7.3"
  }
 },
 "nbformat": 4,
 "nbformat_minor": 5
}
