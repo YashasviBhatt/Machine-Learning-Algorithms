{
 "cells": [
  {
   "cell_type": "code",
   "execution_count": 1,
   "id": "25a9bb8e",
   "metadata": {},
   "outputs": [],
   "source": [
    "# Importing Libraries\n",
    "import numpy as np\n",
    "import pandas as pd\n",
    "from sklearn.model_selection import train_test_split\n",
    "from sklearn.linear_model import LinearRegression\n",
    "from sklearn.metrics import r2_score\n",
    "from statsmodels.api import OLS\n",
    "from itertools import combinations"
   ]
  },
  {
   "cell_type": "code",
   "execution_count": 2,
   "id": "6a787ab3",
   "metadata": {},
   "outputs": [],
   "source": [
    "# Importing Data\n",
    "df = pd.read_csv('50_startups.csv')"
   ]
  },
  {
   "cell_type": "code",
   "execution_count": 3,
   "id": "719ff032",
   "metadata": {},
   "outputs": [
    {
     "data": {
      "text/html": [
       "<div>\n",
       "<style scoped>\n",
       "    .dataframe tbody tr th:only-of-type {\n",
       "        vertical-align: middle;\n",
       "    }\n",
       "\n",
       "    .dataframe tbody tr th {\n",
       "        vertical-align: top;\n",
       "    }\n",
       "\n",
       "    .dataframe thead th {\n",
       "        text-align: right;\n",
       "    }\n",
       "</style>\n",
       "<table border=\"1\" class=\"dataframe\">\n",
       "  <thead>\n",
       "    <tr style=\"text-align: right;\">\n",
       "      <th></th>\n",
       "      <th>R&amp;D Spend</th>\n",
       "      <th>Administration</th>\n",
       "      <th>Marketing Spend</th>\n",
       "      <th>State</th>\n",
       "      <th>Profit</th>\n",
       "    </tr>\n",
       "  </thead>\n",
       "  <tbody>\n",
       "    <tr>\n",
       "      <th>0</th>\n",
       "      <td>165349.20</td>\n",
       "      <td>136897.80</td>\n",
       "      <td>471784.10</td>\n",
       "      <td>New York</td>\n",
       "      <td>192261.83</td>\n",
       "    </tr>\n",
       "    <tr>\n",
       "      <th>1</th>\n",
       "      <td>162597.70</td>\n",
       "      <td>151377.59</td>\n",
       "      <td>443898.53</td>\n",
       "      <td>California</td>\n",
       "      <td>191792.06</td>\n",
       "    </tr>\n",
       "    <tr>\n",
       "      <th>2</th>\n",
       "      <td>153441.51</td>\n",
       "      <td>101145.55</td>\n",
       "      <td>407934.54</td>\n",
       "      <td>Florida</td>\n",
       "      <td>191050.39</td>\n",
       "    </tr>\n",
       "    <tr>\n",
       "      <th>3</th>\n",
       "      <td>144372.41</td>\n",
       "      <td>118671.85</td>\n",
       "      <td>383199.62</td>\n",
       "      <td>New York</td>\n",
       "      <td>182901.99</td>\n",
       "    </tr>\n",
       "    <tr>\n",
       "      <th>4</th>\n",
       "      <td>142107.34</td>\n",
       "      <td>91391.77</td>\n",
       "      <td>366168.42</td>\n",
       "      <td>Florida</td>\n",
       "      <td>166187.94</td>\n",
       "    </tr>\n",
       "  </tbody>\n",
       "</table>\n",
       "</div>"
      ],
      "text/plain": [
       "   R&D Spend  Administration  Marketing Spend       State     Profit\n",
       "0  165349.20       136897.80        471784.10    New York  192261.83\n",
       "1  162597.70       151377.59        443898.53  California  191792.06\n",
       "2  153441.51       101145.55        407934.54     Florida  191050.39\n",
       "3  144372.41       118671.85        383199.62    New York  182901.99\n",
       "4  142107.34        91391.77        366168.42     Florida  166187.94"
      ]
     },
     "execution_count": 3,
     "metadata": {},
     "output_type": "execute_result"
    }
   ],
   "source": [
    "# Data\n",
    "df.head()"
   ]
  },
  {
   "cell_type": "code",
   "execution_count": 4,
   "id": "b12152d3",
   "metadata": {},
   "outputs": [
    {
     "name": "stdout",
     "output_type": "stream",
     "text": [
      "<class 'pandas.core.frame.DataFrame'>\n",
      "RangeIndex: 50 entries, 0 to 49\n",
      "Data columns (total 5 columns):\n",
      " #   Column           Non-Null Count  Dtype  \n",
      "---  ------           --------------  -----  \n",
      " 0   R&D Spend        50 non-null     float64\n",
      " 1   Administration   50 non-null     float64\n",
      " 2   Marketing Spend  50 non-null     float64\n",
      " 3   State            50 non-null     object \n",
      " 4   Profit           50 non-null     float64\n",
      "dtypes: float64(4), object(1)\n",
      "memory usage: 2.1+ KB\n"
     ]
    }
   ],
   "source": [
    "# Data Info\n",
    "df.info()"
   ]
  },
  {
   "cell_type": "code",
   "execution_count": 5,
   "id": "0b072dc7",
   "metadata": {},
   "outputs": [
    {
     "data": {
      "text/plain": [
       "(50, 5)"
      ]
     },
     "execution_count": 5,
     "metadata": {},
     "output_type": "execute_result"
    }
   ],
   "source": [
    "# Data Shape\n",
    "df.shape"
   ]
  },
  {
   "cell_type": "code",
   "execution_count": 6,
   "id": "5d3f7b7d",
   "metadata": {},
   "outputs": [],
   "source": [
    "# Features and Class\n",
    "X = df.iloc[:, :-2]\n",
    "y = df.iloc[:, 4]"
   ]
  },
  {
   "cell_type": "code",
   "execution_count": 7,
   "id": "4f8ff0da",
   "metadata": {},
   "outputs": [],
   "source": [
    "# Dummy Encoding\n",
    "X = pd.concat([X, pd.get_dummies(df.iloc[:, 3], prefix='State_').iloc[:, :-1]], axis=1)"
   ]
  },
  {
   "cell_type": "code",
   "execution_count": 8,
   "id": "543253b4",
   "metadata": {},
   "outputs": [],
   "source": [
    "# Splitting Dataset into Training Set and Testing Set\n",
    "X_train, X_test, y_train, y_test = train_test_split(X, y, test_size=0.2)"
   ]
  },
  {
   "cell_type": "markdown",
   "id": "bec99f41",
   "metadata": {},
   "source": [
    "### All-in Strategy"
   ]
  },
  {
   "cell_type": "code",
   "execution_count": 9,
   "id": "f0fa921a",
   "metadata": {},
   "outputs": [
    {
     "data": {
      "text/plain": [
       "LinearRegression()"
      ]
     },
     "execution_count": 9,
     "metadata": {},
     "output_type": "execute_result"
    }
   ],
   "source": [
    "# Linear Regression\n",
    "regressor = LinearRegression()\n",
    "regressor.fit(X_train, y_train)"
   ]
  },
  {
   "cell_type": "code",
   "execution_count": 10,
   "id": "a6b247c7",
   "metadata": {},
   "outputs": [],
   "source": [
    "# Predicting the Test Set Results\n",
    "y_pred = regressor.predict(X_test)"
   ]
  },
  {
   "cell_type": "code",
   "execution_count": 11,
   "id": "e47b2f3f",
   "metadata": {},
   "outputs": [
    {
     "name": "stdout",
     "output_type": "stream",
     "text": [
      "0.9629545859813348\n"
     ]
    }
   ],
   "source": [
    "# Evaluating Model using R-Squared Method\n",
    "r2 = r2_score(y_test, y_pred)\n",
    "print(r2)"
   ]
  },
  {
   "cell_type": "markdown",
   "id": "2e423632",
   "metadata": {},
   "source": [
    "###### The Equation of Multiple Regression is given by:<br>Y = $\\beta$<sub>0</sub> + $\\beta$<sub>1</sub>X<sub>1</sub> + $\\beta$<sub>2</sub>X<sub>2</sub> + ... + $\\beta$<sub>n</sub>X<sub>n</sub><br><br>In order to satisfy this equation we can also write it down as:<br>Y = $\\beta$<sub>0</sub>X<sub>0</sub> + $\\beta$<sub>1</sub>X<sub>1</sub> + $\\beta$<sub>2</sub>X<sub>2</sub> + ... + $\\beta$<sub>n</sub>X<sub>n</sub><br><br>where, X<sub>0</sub> = 1, that means X<sub>0</sub> is a Matrix of Ones. Therefore in order to satisfy this condition, we need to add a numpy array of Ones."
   ]
  },
  {
   "cell_type": "code",
   "execution_count": 12,
   "id": "d8d0eea4",
   "metadata": {},
   "outputs": [],
   "source": [
    "# Adding Feature of Ones to satisfy equation of Multiple Linear Regression\n",
    "optimizer = pd.Series(np.ones((50, )), name='Optimizer')\n",
    "X = pd.concat([optimizer, X], axis=1)"
   ]
  },
  {
   "cell_type": "code",
   "execution_count": 13,
   "id": "29d30a6e",
   "metadata": {},
   "outputs": [
    {
     "data": {
      "text/html": [
       "<div>\n",
       "<style scoped>\n",
       "    .dataframe tbody tr th:only-of-type {\n",
       "        vertical-align: middle;\n",
       "    }\n",
       "\n",
       "    .dataframe tbody tr th {\n",
       "        vertical-align: top;\n",
       "    }\n",
       "\n",
       "    .dataframe thead th {\n",
       "        text-align: right;\n",
       "    }\n",
       "</style>\n",
       "<table border=\"1\" class=\"dataframe\">\n",
       "  <thead>\n",
       "    <tr style=\"text-align: right;\">\n",
       "      <th></th>\n",
       "      <th>Optimizer</th>\n",
       "      <th>R&amp;D Spend</th>\n",
       "      <th>Administration</th>\n",
       "      <th>Marketing Spend</th>\n",
       "      <th>State__California</th>\n",
       "      <th>State__Florida</th>\n",
       "    </tr>\n",
       "  </thead>\n",
       "  <tbody>\n",
       "    <tr>\n",
       "      <th>0</th>\n",
       "      <td>1.0</td>\n",
       "      <td>165349.20</td>\n",
       "      <td>136897.80</td>\n",
       "      <td>471784.10</td>\n",
       "      <td>0</td>\n",
       "      <td>0</td>\n",
       "    </tr>\n",
       "    <tr>\n",
       "      <th>1</th>\n",
       "      <td>1.0</td>\n",
       "      <td>162597.70</td>\n",
       "      <td>151377.59</td>\n",
       "      <td>443898.53</td>\n",
       "      <td>1</td>\n",
       "      <td>0</td>\n",
       "    </tr>\n",
       "    <tr>\n",
       "      <th>2</th>\n",
       "      <td>1.0</td>\n",
       "      <td>153441.51</td>\n",
       "      <td>101145.55</td>\n",
       "      <td>407934.54</td>\n",
       "      <td>0</td>\n",
       "      <td>1</td>\n",
       "    </tr>\n",
       "    <tr>\n",
       "      <th>3</th>\n",
       "      <td>1.0</td>\n",
       "      <td>144372.41</td>\n",
       "      <td>118671.85</td>\n",
       "      <td>383199.62</td>\n",
       "      <td>0</td>\n",
       "      <td>0</td>\n",
       "    </tr>\n",
       "    <tr>\n",
       "      <th>4</th>\n",
       "      <td>1.0</td>\n",
       "      <td>142107.34</td>\n",
       "      <td>91391.77</td>\n",
       "      <td>366168.42</td>\n",
       "      <td>0</td>\n",
       "      <td>1</td>\n",
       "    </tr>\n",
       "  </tbody>\n",
       "</table>\n",
       "</div>"
      ],
      "text/plain": [
       "   Optimizer  R&D Spend  Administration  Marketing Spend  State__California  \\\n",
       "0        1.0  165349.20       136897.80        471784.10                  0   \n",
       "1        1.0  162597.70       151377.59        443898.53                  1   \n",
       "2        1.0  153441.51       101145.55        407934.54                  0   \n",
       "3        1.0  144372.41       118671.85        383199.62                  0   \n",
       "4        1.0  142107.34        91391.77        366168.42                  0   \n",
       "\n",
       "   State__Florida  \n",
       "0               0  \n",
       "1               0  \n",
       "2               1  \n",
       "3               0  \n",
       "4               1  "
      ]
     },
     "execution_count": 13,
     "metadata": {},
     "output_type": "execute_result"
    }
   ],
   "source": [
    "# Data After Addition\n",
    "X.head()"
   ]
  },
  {
   "cell_type": "markdown",
   "id": "b48278b6",
   "metadata": {},
   "source": [
    "### Forward Selection"
   ]
  },
  {
   "cell_type": "code",
   "execution_count": 14,
   "id": "336dc443",
   "metadata": {},
   "outputs": [],
   "source": [
    "def find_smallest(arr, s_level, idx_avlbl):\n",
    "    '''\n",
    "    Find Smallest Element's Index\n",
    "    Args:\n",
    "        arr::[list]\n",
    "            Input List from which Minimum Element's Index needs to be find\n",
    "        idx_avlbl::[list]\n",
    "            List of Available Indices of Features\n",
    "    Returns:\n",
    "        smallest_idx::[int]\n",
    "            Returns the Index of Smallest Element\n",
    "    '''\n",
    "    smallest_num = None\n",
    "    smallest_idx = None\n",
    "    for i in range(len(arr)):\n",
    "        if not smallest_num:\n",
    "            smallest_num = arr[i]\n",
    "            smallest_idx = i\n",
    "        elif arr[i] < smallest_num:\n",
    "            smallest_num = arr[i]\n",
    "            smallest_idx = i\n",
    "    if smallest_num[0] < s_level:\n",
    "        return idx_avlbl[smallest_idx]\n",
    "    else:\n",
    "        return None"
   ]
  },
  {
   "cell_type": "code",
   "execution_count": 15,
   "id": "df81763f",
   "metadata": {},
   "outputs": [
    {
     "name": "stdout",
     "output_type": "stream",
     "text": [
      "[0, 1]\n"
     ]
    }
   ],
   "source": [
    "# Forward Selection\n",
    "var_idx = [i for i in range(1, 6)]\n",
    "curr_set = [0]\n",
    "for r in range(1, 6):\n",
    "    p_vals = []\n",
    "    for combo in combinations(var_idx, 1):\n",
    "        if combo[0] not in curr_set:\n",
    "            temp_set = curr_set + list(combo)\n",
    "            X_opt = X.iloc[:, temp_set]\n",
    "            regressor = OLS(endog=y, exog=X_opt).fit()\n",
    "            p_vals.append(list(regressor.pvalues)[r:])\n",
    "    idx_avlbl = list(set(var_idx) - set(curr_set))\n",
    "    idx = find_smallest(arr=p_vals, s_level=0.05, idx_avlbl=idx_avlbl)\n",
    "    if idx:\n",
    "        curr_set += [idx]\n",
    "    else:\n",
    "        break\n",
    "print(curr_set)"
   ]
  },
  {
   "cell_type": "markdown",
   "id": "63dc1d22",
   "metadata": {},
   "source": [
    "### Backward Selection"
   ]
  },
  {
   "cell_type": "code",
   "execution_count": 16,
   "id": "d7993204",
   "metadata": {},
   "outputs": [],
   "source": [
    "def find_largest(arr, s_level, idx_avlbl):\n",
    "    '''\n",
    "    Find Largest Element\n",
    "    Args:\n",
    "        arr::[list]\n",
    "            Input List from which Largest Element needs to be find\n",
    "        s_level::[float]\n",
    "            Significance Level set to stay in the Model\n",
    "        idx_avlbl::[list]\n",
    "            List of Available Indices of Features\n",
    "    Returns:\n",
    "        largest_idx::[int]\n",
    "            Returns Largest Element\n",
    "    '''\n",
    "    largest_num = None\n",
    "    for i in range(len(arr)):\n",
    "        if not largest_num:\n",
    "            largest_num = arr[i]\n",
    "        elif arr[i] > largest_num:\n",
    "            largest_num = arr[i]\n",
    "    if largest_num > s_level:\n",
    "        return largest_num\n",
    "    else:\n",
    "        return None"
   ]
  },
  {
   "cell_type": "code",
   "execution_count": 17,
   "id": "0365b210",
   "metadata": {},
   "outputs": [
    {
     "name": "stdout",
     "output_type": "stream",
     "text": [
      "[0, 1]\n"
     ]
    }
   ],
   "source": [
    "# Backward Selection\n",
    "var_idx = [i for i in range(1, 6)]\n",
    "curr_set = [i for i in range(6)]\n",
    "for r in range(5):\n",
    "    idx_avlbl = curr_set[1:]\n",
    "    p_vals = []\n",
    "    X_opt = X.iloc[:, curr_set]\n",
    "    regressor = OLS(endog=y, exog=X_opt).fit()\n",
    "    p_vals += list(regressor.pvalues)[1:]\n",
    "    largest_num = find_largest(arr=p_vals, s_level=0.05, idx_avlbl=idx_avlbl)\n",
    "    if largest_num:\n",
    "        idx = p_vals.index(largest_num) + 1\n",
    "        curr_set.pop(idx)\n",
    "        p_vals.remove(largest_num)\n",
    "    else:\n",
    "        break\n",
    "print(curr_set)"
   ]
  }
 ],
 "metadata": {
  "kernelspec": {
   "display_name": "Python 3",
   "language": "python",
   "name": "python3"
  },
  "language_info": {
   "codemirror_mode": {
    "name": "ipython",
    "version": 3
   },
   "file_extension": ".py",
   "mimetype": "text/x-python",
   "name": "python",
   "nbconvert_exporter": "python",
   "pygments_lexer": "ipython3",
   "version": "3.7.3"
  }
 },
 "nbformat": 4,
 "nbformat_minor": 5
}
